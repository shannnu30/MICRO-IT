# File: sentiment_analysis.py
import pandas as pd
from sklearn.model_selection import train_test_split
from sklearn.feature_extraction.text import TfidfVectorizer
from sklearn.pipeline import Pipeline
from sklearn.naive_bayes import MultinomialNB
from sklearn.metrics import classification_report, accuracy_score
import joblib

def load_data(path="data/sentiment_reviews.csv"):
    """
    Load sentiment dataset from CSV. Expects two columns: 'text' and 'sentiment'.
    Returns X (texts) and y (labels).
    """
    df = pd.read_csv(path)
    return df['text'], df['sentiment']

def build_and_train(output_model="models/sentiment_nb.joblib"):
    """
    Train a sentiment classifier using TF-IDF + MultinomialNB.
    Saves the trained pipeline to output_model.
    Prints accuracy and classification report on test set.
    """
    X, y = load_data()
    X_train, X_test, y_train, y_test = train_test_split(
        X, y, test_size=0.2, random_state=42, stratify=y
